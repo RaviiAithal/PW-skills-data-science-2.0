{
 "cells": [
  {
   "cell_type": "markdown",
   "id": "519c85ab-dac3-4973-b7b7-a821f7cb537f",
   "metadata": {},
   "source": [
    "Q1.\n",
    "Class:A class is a blueprint or a template for creating objects.\n",
    "\n",
    "Object:An object is an instance of a class."
   ]
  },
  {
   "cell_type": "code",
   "execution_count": 1,
   "id": "c163dee3-02f3-4e65-8099-0e43651cc747",
   "metadata": {
    "tags": []
   },
   "outputs": [],
   "source": [
    "class car:\n",
    "    def __init__(self,brand,price):\n",
    "        self.brand=brand\n",
    "        self.price=price\n",
    "    def printing(self):\n",
    "        print(\"This is member function of a class\")"
   ]
  },
  {
   "cell_type": "markdown",
   "id": "b39eae7d-25c1-4e99-8ab1-d1931ab881f7",
   "metadata": {},
   "source": [
    "Q2.\n",
    "Abstraction\n",
    "Encapsulation\n",
    "Inheritance\n",
    "Ploymorphism"
   ]
  },
  {
   "cell_type": "markdown",
   "id": "cadfcc4c-faa4-4a4e-8acb-9cddcc19ce8a",
   "metadata": {},
   "source": [
    "Q3. __init__ is constructor which invokes every time automatically for every object created\n",
    "It is used to values of different arguments and store it inside the class"
   ]
  },
  {
   "cell_type": "code",
   "execution_count": 2,
   "id": "d4a3d679-e251-4d79-af61-a69c133d4d82",
   "metadata": {
    "tags": []
   },
   "outputs": [],
   "source": [
    "class bus:\n",
    "    def __init__(self,brand,price):\n",
    "        self.brand=brand\n",
    "        self.price=price\n",
    "    def printing(self):\n",
    "        print(\"This is member function of a class\")"
   ]
  },
  {
   "cell_type": "markdown",
   "id": "ec8b57c9-e3e1-465c-b752-ee9e72550181",
   "metadata": {},
   "source": [
    "Q4.In OOPs the self keyword is used as a reference to the instance of the class. It allows to access and manipulate the attributes and methods."
   ]
  },
  {
   "cell_type": "markdown",
   "id": "b2c34597-97b5-45a4-a59c-afb1babbd43e",
   "metadata": {},
   "source": [
    "Q5,\n",
    "Single Inheritance:\n",
    "It refers to a situation where a subclass inherits from only one parent class"
   ]
  },
  {
   "cell_type": "code",
   "execution_count": 8,
   "id": "b84f8f21-ecb7-45a6-903d-5f5525e2c0f3",
   "metadata": {
    "tags": []
   },
   "outputs": [],
   "source": [
    "class animal:\n",
    "    def sound(self):\n",
    "        pass\n",
    "\n",
    "class dogs(animal):\n",
    "    def sound(self):\n",
    "        return \"Bow\""
   ]
  },
  {
   "cell_type": "code",
   "execution_count": 9,
   "id": "a4f461f9-7080-4aff-95ed-0a252ce5a717",
   "metadata": {
    "tags": []
   },
   "outputs": [],
   "source": [
    "dog = dogs()"
   ]
  },
  {
   "cell_type": "code",
   "execution_count": 10,
   "id": "a21828c0-2dc2-4856-bc0a-f253839d1ac9",
   "metadata": {
    "tags": []
   },
   "outputs": [
    {
     "name": "stdout",
     "output_type": "stream",
     "text": [
      "Bow\n"
     ]
    }
   ],
   "source": [
    "print(dog.sound())"
   ]
  },
  {
   "cell_type": "markdown",
   "id": "6657756a-2d68-4800-9caa-93464a3e6be3",
   "metadata": {},
   "source": [
    "Multiple Inheritance:\n",
    "Multiple inheritance occurs when a subclass inherits from more than one parent class."
   ]
  },
  {
   "cell_type": "code",
   "execution_count": 14,
   "id": "11d9f86b-591e-4e32-a2da-92de066f8601",
   "metadata": {
    "tags": []
   },
   "outputs": [],
   "source": [
    "class A:\n",
    "    def methodA(self):\n",
    "        return \"Method A from class A\"\n",
    "class B:\n",
    "    def methodB(self):\n",
    "        return \"Method B from class B\"\n",
    "class C(A, B):\n",
    "    pass"
   ]
  },
  {
   "cell_type": "code",
   "execution_count": 15,
   "id": "ac98a18a-e361-40c8-9276-85737567b5f8",
   "metadata": {
    "tags": []
   },
   "outputs": [],
   "source": [
    "c = C()"
   ]
  },
  {
   "cell_type": "code",
   "execution_count": 16,
   "id": "6f12c243-c8dd-4b8d-9096-299ff04f177b",
   "metadata": {
    "tags": []
   },
   "outputs": [
    {
     "name": "stdout",
     "output_type": "stream",
     "text": [
      "Method A from class A\n"
     ]
    }
   ],
   "source": [
    "print(c.methodA()) "
   ]
  },
  {
   "cell_type": "code",
   "execution_count": 17,
   "id": "258ba043-619a-405f-b0c2-d302e2e3d1ca",
   "metadata": {
    "tags": []
   },
   "outputs": [
    {
     "name": "stdout",
     "output_type": "stream",
     "text": [
      "Method B from class B\n"
     ]
    }
   ],
   "source": [
    "print(c.methodB())"
   ]
  },
  {
   "cell_type": "markdown",
   "id": "cd334f30-ab17-48f1-8b3b-072748ab3b6f",
   "metadata": {},
   "source": [
    "Multilevel Inheritance:\n",
    "Multilevel inheritance involves a chain of inheritance, where a subclass inherits from another subclass"
   ]
  },
  {
   "cell_type": "code",
   "execution_count": 18,
   "id": "02b10158-6dd4-41ba-92f1-d69bac3a4af5",
   "metadata": {
    "tags": []
   },
   "outputs": [],
   "source": [
    "class A:\n",
    "    def methodA(self):\n",
    "        return \"Method A from class A\"\n",
    "class B(A):\n",
    "    def methodB(self):\n",
    "        return \"Method B from class B\"\n",
    "class C(B):\n",
    "    pass"
   ]
  },
  {
   "cell_type": "markdown",
   "id": "5710bbfd-9ae9-4b1a-9f80-5d594ac223b9",
   "metadata": {
    "tags": []
   },
   "source": [
    "c = C()"
   ]
  },
  {
   "cell_type": "code",
   "execution_count": 20,
   "id": "074b0e30-b18a-46f4-a51f-de1f11fcb813",
   "metadata": {
    "tags": []
   },
   "outputs": [
    {
     "name": "stdout",
     "output_type": "stream",
     "text": [
      "Method A from class A\n"
     ]
    }
   ],
   "source": [
    "print(c.methodA())"
   ]
  },
  {
   "cell_type": "code",
   "execution_count": 21,
   "id": "ec7f7427-5080-4466-b0a0-2d4548799110",
   "metadata": {
    "tags": []
   },
   "outputs": [
    {
     "name": "stdout",
     "output_type": "stream",
     "text": [
      "Method B from class B\n"
     ]
    }
   ],
   "source": [
    "print(c.methodB())"
   ]
  },
  {
   "cell_type": "markdown",
   "id": "1c4500db-0df6-49c3-87a3-3f98d22a8b44",
   "metadata": {},
   "source": [
    "Hierarchical Inheritance:\n",
    "Hierarchical inheritance is when multiple subclasses inherit from a single parent class."
   ]
  },
  {
   "cell_type": "code",
   "execution_count": 22,
   "id": "5b6343f1-4bf5-4888-9462-2d79552aa588",
   "metadata": {
    "tags": []
   },
   "outputs": [],
   "source": [
    "class Vehicle:\n",
    "    def start(self):\n",
    "        pass\n",
    "class Car(Vehicle):\n",
    "    def start(self):\n",
    "        return \"Car started\"\n",
    "class Bike(Vehicle):\n",
    "    def start(self):\n",
    "        return \"Bike started\""
   ]
  },
  {
   "cell_type": "code",
   "execution_count": 23,
   "id": "7bd87f9e-c8a5-4db0-821c-59592be166f2",
   "metadata": {
    "tags": []
   },
   "outputs": [],
   "source": [
    "car = Car()"
   ]
  },
  {
   "cell_type": "code",
   "execution_count": 24,
   "id": "b35fbaa3-ce14-4261-a6a7-f026e3463488",
   "metadata": {
    "tags": []
   },
   "outputs": [],
   "source": [
    "bike = Bike()"
   ]
  },
  {
   "cell_type": "code",
   "execution_count": 26,
   "id": "49a21669-dd83-4efd-9be7-c01849d19235",
   "metadata": {
    "tags": []
   },
   "outputs": [
    {
     "name": "stdout",
     "output_type": "stream",
     "text": [
      "Car started\n"
     ]
    }
   ],
   "source": [
    "print(car.start())"
   ]
  },
  {
   "cell_type": "code",
   "execution_count": 27,
   "id": "73788278-9823-4e7d-98ea-108d31fb50b5",
   "metadata": {
    "tags": []
   },
   "outputs": [
    {
     "name": "stdout",
     "output_type": "stream",
     "text": [
      "Bike started\n"
     ]
    }
   ],
   "source": [
    "print(bike.start())"
   ]
  },
  {
   "cell_type": "markdown",
   "id": "f3d97b92-c735-45ad-adf2-0d71d025c730",
   "metadata": {},
   "source": [
    "Hybrid Inheritance:\n",
    "Hybrid inheritance combines multiple types of inheritance, such as single, multiple, multilevel, and hierarchical inheritance."
   ]
  }
 ],
 "metadata": {
  "kernelspec": {
   "display_name": "Python 3 (ipykernel)",
   "language": "python",
   "name": "python3"
  },
  "language_info": {
   "codemirror_mode": {
    "name": "ipython",
    "version": 3
   },
   "file_extension": ".py",
   "mimetype": "text/x-python",
   "name": "python",
   "nbconvert_exporter": "python",
   "pygments_lexer": "ipython3",
   "version": "3.11.3"
  }
 },
 "nbformat": 4,
 "nbformat_minor": 5
}
