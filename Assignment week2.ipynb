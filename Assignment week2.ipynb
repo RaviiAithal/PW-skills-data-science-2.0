{
 "cells": [
  {
   "cell_type": "markdown",
   "id": "413dd64a-2c67-4120-b061-1ad588484487",
   "metadata": {},
   "source": [
    "Q1,Code is commented using # or '''.....'''.\n",
    "Theere are two types of comments.\n",
    "Multiline comment and Single line comment. "
   ]
  },
  {
   "cell_type": "markdown",
   "id": "6701bae9-dfa2-45c4-9d08-b41121bbad89",
   "metadata": {},
   "source": [
    "Q2.Variables are the user defined name given to the values.\n",
    "Variables are declared in python just by typing them.\n",
    "Values are assigned using = symbol"
   ]
  },
  {
   "cell_type": "markdown",
   "id": "1310367d-924a-47c1-835c-a021ee582bb1",
   "metadata": {},
   "source": [
    "Q3.By using keywords of the data types.\n",
    "    ex:\n",
    "    a=7\n",
    "    float(a)\n",
    "    a=7.0\n",
    "Here int is converted to float.It is called type casting"
   ]
  },
  {
   "cell_type": "markdown",
   "id": "6b3de984-f28c-4573-ab2e-fab29e245b9b",
   "metadata": {},
   "source": [
    "Q4.open a command line and type python3 followed by the path to script file.\n",
    "python3 script.py"
   ]
  },
  {
   "cell_type": "code",
   "execution_count": 5,
   "id": "35a2c6c2-56bc-480c-9c3a-eebeda2cd85d",
   "metadata": {
    "tags": []
   },
   "outputs": [],
   "source": [
    "#Q5.\n",
    "my_list = [1, 2, 3, 4, 5]"
   ]
  },
  {
   "cell_type": "code",
   "execution_count": 6,
   "id": "c31c12ba-6d15-4ff3-b130-56295cb58b1d",
   "metadata": {
    "tags": []
   },
   "outputs": [
    {
     "data": {
      "text/plain": [
       "[2, 3]"
      ]
     },
     "execution_count": 6,
     "metadata": {},
     "output_type": "execute_result"
    }
   ],
   "source": [
    "my_list[1:3]"
   ]
  },
  {
   "cell_type": "markdown",
   "id": "3b662d90-4a22-4aaf-bafe-ec561def3ff1",
   "metadata": {
    "tags": []
   },
   "source": [
    "Q6.Complex numners are the numbers having imaginary part in it\n",
    "They are reprresented using j\n"
   ]
  },
  {
   "cell_type": "markdown",
   "id": "8c6924fb-ad0a-4764-80ed-4f98fa10da14",
   "metadata": {},
   "source": [
    "Q7.\n",
    "age=25"
   ]
  },
  {
   "cell_type": "code",
   "execution_count": 8,
   "id": "289a2a96-f861-44f3-847f-f6ca725f062e",
   "metadata": {
    "tags": []
   },
   "outputs": [
    {
     "data": {
      "text/plain": [
       "float"
      ]
     },
     "execution_count": 8,
     "metadata": {},
     "output_type": "execute_result"
    }
   ],
   "source": [
    "#Q8.\n",
    "price=9.99;\n",
    "type(price)"
   ]
  },
  {
   "cell_type": "code",
   "execution_count": 13,
   "id": "00f16301-5024-4ecb-99b4-c57fee94b710",
   "metadata": {
    "tags": []
   },
   "outputs": [
    {
     "data": {
      "text/plain": [
       "2773189685968"
      ]
     },
     "execution_count": 13,
     "metadata": {},
     "output_type": "execute_result"
    }
   ],
   "source": [
    "#Q9\n",
    "name=\"Ravikiran Aithal\"\n",
    "id(name)\n"
   ]
  },
  {
   "cell_type": "code",
   "execution_count": 15,
   "id": "308ef517-0490-4fe3-891d-eebe080909ca",
   "metadata": {
    "tags": []
   },
   "outputs": [
    {
     "data": {
      "text/plain": [
       "'World'"
      ]
     },
     "execution_count": 15,
     "metadata": {},
     "output_type": "execute_result"
    }
   ],
   "source": [
    "#Q10\n",
    "str= \"Hello, World!\"\n",
    "str[7:12]"
   ]
  },
  {
   "cell_type": "code",
   "execution_count": 17,
   "id": "20eadeb1-fcb4-4d0f-bb2a-4c114975d085",
   "metadata": {
    "tags": []
   },
   "outputs": [
    {
     "name": "stdout",
     "output_type": "stream",
     "text": [
      "True\n"
     ]
    }
   ],
   "source": [
    "#Q11\n",
    "is_variable=True\n",
    "print(is_variable)"
   ]
  },
  {
   "cell_type": "code",
   "execution_count": null,
   "id": "90ebdc1b-fc8b-47d1-9b6b-0be378c090c1",
   "metadata": {},
   "outputs": [],
   "source": []
  }
 ],
 "metadata": {
  "kernelspec": {
   "display_name": "Python 3 (ipykernel)",
   "language": "python",
   "name": "python3"
  },
  "language_info": {
   "codemirror_mode": {
    "name": "ipython",
    "version": 3
   },
   "file_extension": ".py",
   "mimetype": "text/x-python",
   "name": "python",
   "nbconvert_exporter": "python",
   "pygments_lexer": "ipython3",
   "version": "3.11.3"
  }
 },
 "nbformat": 4,
 "nbformat_minor": 5
}
