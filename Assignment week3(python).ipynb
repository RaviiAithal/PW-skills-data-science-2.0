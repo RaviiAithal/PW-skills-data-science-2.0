{
 "cells": [
  {
   "cell_type": "code",
   "execution_count": 5,
   "id": "8b51235c-52db-43a2-bc45-381b7030eb63",
   "metadata": {
    "tags": []
   },
   "outputs": [],
   "source": [
    "#Q1.\n",
    "players = [('Sachin Tendulkar', 34357), ('Ricky Ponting', 27483), ('Jack Kallis', 25534), ('Virat Kohli', 24936)]"
   ]
  },
  {
   "cell_type": "code",
   "execution_count": 6,
   "id": "39dd21cc-e5f3-43b4-80cf-6583462184f0",
   "metadata": {
    "tags": []
   },
   "outputs": [],
   "source": [
    "asorting = sorted(players, key=lambda x: x[1])"
   ]
  },
  {
   "cell_type": "code",
   "execution_count": 7,
   "id": "22b19537-ec20-4e0c-9821-eccef50afb02",
   "metadata": {
    "tags": []
   },
   "outputs": [
    {
     "name": "stdout",
     "output_type": "stream",
     "text": [
      "('Virat Kohli', 24936)\n",
      "('Jack Kallis', 25534)\n",
      "('Ricky Ponting', 27483)\n",
      "('Sachin Tendulkar', 34357)\n"
     ]
    }
   ],
   "source": [
    "for player in asorting:\n",
    "    print(player)"
   ]
  },
  {
   "cell_type": "code",
   "execution_count": 14,
   "id": "2f53e0be-a38d-414d-bc26-a771363be91f",
   "metadata": {
    "tags": []
   },
   "outputs": [],
   "source": [
    "#Q2.\n",
    "l=[1,2,3,4,5,6,7,8,9,10]"
   ]
  },
  {
   "cell_type": "code",
   "execution_count": 15,
   "id": "c861b20a-ceea-4473-8edc-b935c0f55f17",
   "metadata": {
    "tags": []
   },
   "outputs": [],
   "source": [
    "sq_list= map(lambda x:x**2,l)"
   ]
  },
  {
   "cell_type": "code",
   "execution_count": 16,
   "id": "974f08f2-f919-436f-a2b5-cd161f6e0d3e",
   "metadata": {
    "tags": []
   },
   "outputs": [
    {
     "data": {
      "text/plain": [
       "[1, 4, 9, 16, 25, 36, 49, 64, 81, 100]"
      ]
     },
     "execution_count": 16,
     "metadata": {},
     "output_type": "execute_result"
    }
   ],
   "source": [
    "list(sq_list)"
   ]
  },
  {
   "cell_type": "code",
   "execution_count": 7,
   "id": "09b574b3-848c-464f-bfdf-8f1dc1a6dc56",
   "metadata": {
    "tags": []
   },
   "outputs": [],
   "source": [
    "#Q3\n",
    "l2=[1,2,3,4,5,6,7,8,9,10]"
   ]
  },
  {
   "cell_type": "code",
   "execution_count": 8,
   "id": "44848a0b-737d-40de-bed5-6eb2944c4c5f",
   "metadata": {
    "tags": []
   },
   "outputs": [],
   "source": [
    "a = tuple(map(lambda i: str(i),l2))"
   ]
  },
  {
   "cell_type": "code",
   "execution_count": 9,
   "id": "e4df685d-e831-4954-b738-daf258ed8610",
   "metadata": {
    "tags": []
   },
   "outputs": [
    {
     "data": {
      "text/plain": [
       "('1', '2', '3', '4', '5', '6', '7', '8', '9', '10')"
      ]
     },
     "execution_count": 9,
     "metadata": {},
     "output_type": "execute_result"
    }
   ],
   "source": [
    "a"
   ]
  },
  {
   "cell_type": "code",
   "execution_count": 19,
   "id": "999b3f9a-ee37-4596-84f9-62a0be857df7",
   "metadata": {
    "tags": []
   },
   "outputs": [],
   "source": [
    "#Q4\n",
    "l3=list(range(1,26))"
   ]
  },
  {
   "cell_type": "code",
   "execution_count": 20,
   "id": "a4fe71a0-e239-4294-beba-72c5fbece0f5",
   "metadata": {
    "tags": []
   },
   "outputs": [
    {
     "data": {
      "text/plain": [
       "[1,\n",
       " 2,\n",
       " 3,\n",
       " 4,\n",
       " 5,\n",
       " 6,\n",
       " 7,\n",
       " 8,\n",
       " 9,\n",
       " 10,\n",
       " 11,\n",
       " 12,\n",
       " 13,\n",
       " 14,\n",
       " 15,\n",
       " 16,\n",
       " 17,\n",
       " 18,\n",
       " 19,\n",
       " 20,\n",
       " 21,\n",
       " 22,\n",
       " 23,\n",
       " 24,\n",
       " 25]"
      ]
     },
     "execution_count": 20,
     "metadata": {},
     "output_type": "execute_result"
    }
   ],
   "source": [
    "l3"
   ]
  },
  {
   "cell_type": "code",
   "execution_count": 21,
   "id": "eb6026ff-2130-4ade-b41b-2ac64fd485aa",
   "metadata": {
    "tags": []
   },
   "outputs": [],
   "source": [
    "from functools import reduce"
   ]
  },
  {
   "cell_type": "code",
   "execution_count": 22,
   "id": "d840a79d-2b04-4588-818b-52e56415181c",
   "metadata": {
    "tags": []
   },
   "outputs": [],
   "source": [
    "a= reduce(lambda x,y:x*y,l3)"
   ]
  },
  {
   "cell_type": "code",
   "execution_count": 23,
   "id": "ff1c6bc6-ea3a-474f-983d-1123059ed3cd",
   "metadata": {
    "tags": []
   },
   "outputs": [
    {
     "data": {
      "text/plain": [
       "15511210043330985984000000"
      ]
     },
     "execution_count": 23,
     "metadata": {},
     "output_type": "execute_result"
    }
   ],
   "source": [
    "a"
   ]
  },
  {
   "cell_type": "code",
   "execution_count": 42,
   "id": "1caa0687-ea5c-42c2-88eb-41ef90e0a924",
   "metadata": {
    "tags": []
   },
   "outputs": [],
   "source": [
    "#Q5\n",
    "l4=[2, 3, 6, 9, 27, 60, 90, 120, 55, 46]"
   ]
  },
  {
   "cell_type": "code",
   "execution_count": 43,
   "id": "156de5aa-de9f-4f55-a2e5-54c0716bc8ba",
   "metadata": {
    "tags": []
   },
   "outputs": [],
   "source": [
    "b= list(filter(lambda i:i%2==0 and i%3==0,l4))"
   ]
  },
  {
   "cell_type": "code",
   "execution_count": 44,
   "id": "0b495f7f-9ebb-4f3c-886f-731ffdcd3e0b",
   "metadata": {
    "tags": []
   },
   "outputs": [
    {
     "name": "stdout",
     "output_type": "stream",
     "text": [
      "[6, 60, 90, 120]\n"
     ]
    }
   ],
   "source": [
    "print(b)"
   ]
  },
  {
   "cell_type": "code",
   "execution_count": 47,
   "id": "fd0657ea-42a1-42c6-9525-eba23305921b",
   "metadata": {
    "tags": []
   },
   "outputs": [],
   "source": [
    "#Q6\n",
    "str_list=['python', 'php', 'aba', 'radar', 'level']"
   ]
  },
  {
   "cell_type": "code",
   "execution_count": 52,
   "id": "914e60bf-af69-4c12-b688-6ae301e47d67",
   "metadata": {
    "tags": []
   },
   "outputs": [],
   "source": [
    "d = list(filter(lambda s: s == s[::-1], str_list))"
   ]
  },
  {
   "cell_type": "code",
   "execution_count": 53,
   "id": "6118f43c-ea09-427b-84ef-bce951bb9aa7",
   "metadata": {
    "tags": []
   },
   "outputs": [
    {
     "data": {
      "text/plain": [
       "['php', 'aba', 'radar', 'level']"
      ]
     },
     "execution_count": 53,
     "metadata": {},
     "output_type": "execute_result"
    }
   ],
   "source": [
    "d"
   ]
  }
 ],
 "metadata": {
  "kernelspec": {
   "display_name": "Python 3 (ipykernel)",
   "language": "python",
   "name": "python3"
  },
  "language_info": {
   "codemirror_mode": {
    "name": "ipython",
    "version": 3
   },
   "file_extension": ".py",
   "mimetype": "text/x-python",
   "name": "python",
   "nbconvert_exporter": "python",
   "pygments_lexer": "ipython3",
   "version": "3.11.3"
  }
 },
 "nbformat": 4,
 "nbformat_minor": 5
}
