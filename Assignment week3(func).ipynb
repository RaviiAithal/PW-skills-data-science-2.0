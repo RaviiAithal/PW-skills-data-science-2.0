{
 "cells": [
  {
   "cell_type": "markdown",
   "id": "96b469c6-9423-44b2-82d1-5a63f9de91cc",
   "metadata": {},
   "source": [
    "1.def is the keyword used to create function"
   ]
  },
  {
   "cell_type": "code",
   "execution_count": 1,
   "id": "62fc1fb2-c007-4459-83dd-6c24ad727ced",
   "metadata": {
    "tags": []
   },
   "outputs": [],
   "source": [
    "def odd():\n",
    "    for i in range(1,25):\n",
    "        if i%2!=0:\n",
    "            print(i)"
   ]
  },
  {
   "cell_type": "code",
   "execution_count": 2,
   "id": "11312868-505d-4ec5-9fdf-636b9c385bde",
   "metadata": {
    "tags": []
   },
   "outputs": [
    {
     "name": "stdout",
     "output_type": "stream",
     "text": [
      "1\n",
      "3\n",
      "5\n",
      "7\n",
      "9\n",
      "11\n",
      "13\n",
      "15\n",
      "17\n",
      "19\n",
      "21\n",
      "23\n"
     ]
    }
   ],
   "source": [
    "odd()"
   ]
  },
  {
   "cell_type": "markdown",
   "id": "a8f71b12-d229-47d1-bc72-aa8ff7f83467",
   "metadata": {},
   "source": [
    "2. *args and *kwargs are used in somefunction when the no of arguments are not known in advance"
   ]
  },
  {
   "cell_type": "code",
   "execution_count": 10,
   "id": "e6d858d1-7dd8-4245-a339-899ad64abcb1",
   "metadata": {
    "tags": []
   },
   "outputs": [],
   "source": [
    "def funn(*arg):\n",
    "    return arg+arg"
   ]
  },
  {
   "cell_type": "code",
   "execution_count": 11,
   "id": "3534177b-c3ef-4c9b-8119-7b95c2a21ccc",
   "metadata": {
    "tags": []
   },
   "outputs": [
    {
     "data": {
      "text/plain": [
       "(1, 2, 3, 4, 5, 1, 2, 3, 4, 5)"
      ]
     },
     "execution_count": 11,
     "metadata": {},
     "output_type": "execute_result"
    }
   ],
   "source": [
    "funn(1,2,3,4,5)"
   ]
  },
  {
   "cell_type": "code",
   "execution_count": 24,
   "id": "c72cc24c-2210-4700-bad6-f4d69888c83f",
   "metadata": {
    "tags": []
   },
   "outputs": [],
   "source": [
    "def func(**kwarg):\n",
    "    return kwarg"
   ]
  },
  {
   "cell_type": "code",
   "execution_count": 25,
   "id": "bda0d05a-08ad-4aca-812c-11582fecc04c",
   "metadata": {
    "tags": []
   },
   "outputs": [
    {
     "data": {
      "text/plain": [
       "{'a': 2, 'b': 3}"
      ]
     },
     "execution_count": 25,
     "metadata": {},
     "output_type": "execute_result"
    }
   ],
   "source": [
    "func(a=2,b=3)"
   ]
  },
  {
   "cell_type": "markdown",
   "id": "4bda7190-2ab5-435b-b852-0fc06eeb8bd6",
   "metadata": {},
   "source": [
    "3. Iterator is an object that allows you to iterate over a sequence of elements, one at a time."
   ]
  },
  {
   "cell_type": "code",
   "execution_count": 26,
   "id": "ba8c79db-97d0-403d-ad01-d4b02021abcb",
   "metadata": {
    "tags": []
   },
   "outputs": [
    {
     "name": "stdout",
     "output_type": "stream",
     "text": [
      "2\n",
      "4\n",
      "6\n",
      "8\n",
      "10\n"
     ]
    }
   ],
   "source": [
    "list1 = [2, 4, 6, 8, 10, 12, 14, 16, 18, 20]\n",
    "for i in range(5):\n",
    "    print(list1[i])\n"
   ]
  },
  {
   "cell_type": "markdown",
   "id": "97146006-7cf3-4efd-bc80-ca83b844e003",
   "metadata": {},
   "source": [
    "4. Generator function is a special type of function that returns an iterator.\n",
    "     Yield keyword is used in generator functions to indicate that the function should pause its execution at that point and return the value following the yield.\n"
   ]
  },
  {
   "cell_type": "code",
   "execution_count": 27,
   "id": "51fafb94-957c-4231-b99a-22034841c938",
   "metadata": {
    "tags": []
   },
   "outputs": [],
   "source": [
    "def testf(n):\n",
    "    a=0\n",
    "    for i in range(n):\n",
    "        yield a\n",
    "        a=a+10"
   ]
  },
  {
   "cell_type": "code",
   "execution_count": 30,
   "id": "910d3f4b-5002-4b2d-a697-105407be9319",
   "metadata": {
    "tags": []
   },
   "outputs": [
    {
     "data": {
      "text/plain": [
       "[0, 10, 20, 30, 40, 50, 60, 70, 80, 90]"
      ]
     },
     "execution_count": 30,
     "metadata": {},
     "output_type": "execute_result"
    }
   ],
   "source": [
    "list(testf(10))"
   ]
  },
  {
   "cell_type": "code",
   "execution_count": 35,
   "id": "c7a77286-24fa-467c-9188-6959e68a3996",
   "metadata": {
    "tags": []
   },
   "outputs": [
    {
     "name": "stdout",
     "output_type": "stream",
     "text": [
      "2\n",
      "3\n",
      "5\n",
      "7\n",
      "11\n",
      "13\n",
      "17\n",
      "19\n",
      "23\n",
      "29\n",
      "31\n",
      "37\n",
      "41\n",
      "43\n",
      "47\n",
      "53\n",
      "59\n",
      "61\n",
      "67\n",
      "71\n"
     ]
    }
   ],
   "source": [
    "#5.\n",
    "def prime(number):\n",
    "    for i in range(2, int(number**0.5) + 1):\n",
    "        if number % i == 0:\n",
    "            return 0\n",
    "    return 1\n",
    "def generator():\n",
    "    number = 2\n",
    "    count = 0\n",
    "    while count < 20:\n",
    "        if prime(number):\n",
    "            yield number\n",
    "            count += 1\n",
    "        number += 1\n",
    "\n",
    "a = generator()\n",
    "\n",
    "for _ in range(20):\n",
    "    prime_number = next(a)\n",
    "    print(prime_number)\n"
   ]
  },
  {
   "cell_type": "code",
   "execution_count": null,
   "id": "d4f93a5d-e4de-43d6-a223-93e2f4ad8ca1",
   "metadata": {},
   "outputs": [],
   "source": []
  }
 ],
 "metadata": {
  "kernelspec": {
   "display_name": "Python 3 (ipykernel)",
   "language": "python",
   "name": "python3"
  },
  "language_info": {
   "codemirror_mode": {
    "name": "ipython",
    "version": 3
   },
   "file_extension": ".py",
   "mimetype": "text/x-python",
   "name": "python",
   "nbconvert_exporter": "python",
   "pygments_lexer": "ipython3",
   "version": "3.11.3"
  }
 },
 "nbformat": 4,
 "nbformat_minor": 5
}
